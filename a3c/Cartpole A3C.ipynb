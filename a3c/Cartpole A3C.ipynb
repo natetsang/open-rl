{
 "cells": [
  {
   "cell_type": "code",
   "execution_count": 3,
   "metadata": {},
   "outputs": [],
   "source": [
    "import torch\n",
    "from torch import nn\n",
    "from torch import optim\n",
    "import numpy as np\n",
    "from torch.nn import functional as F\n",
    "import gym\n",
    "import matplotlib.pyplot as plt\n",
    "from skimage.transform import resize\n",
    "from collections import deque\n",
    "from IPython.display import clear_output, display\n",
    "import torch.multiprocessing as mp\n",
    "import time"
   ]
  },
  {
   "cell_type": "code",
   "execution_count": 4,
   "metadata": {},
   "outputs": [
    {
     "data": {
      "text/plain": [
       "array([ 0.01239285, -0.00379271, -0.00721933, -0.00299865])"
      ]
     },
     "execution_count": 4,
     "metadata": {},
     "output_type": "execute_result"
    }
   ],
   "source": [
    "#env = gym.make(\"Pong-v0\")\n",
    "env = gym.make(\"CartPole-v1\")\n",
    "env.reset()\n",
    "#env.unwrapped.get_action_meanings()"
   ]
  },
  {
   "cell_type": "code",
   "execution_count": 24,
   "metadata": {},
   "outputs": [],
   "source": [
    "class ActorCritic(nn.Module):\n",
    "    def __init__(self):\n",
    "        super(ActorCritic, self).__init__()\n",
    "        self.l1 = nn.Linear(4,25)\n",
    "        self.l2 = nn.Linear(25,50)\n",
    "        self.actor_lin1 = nn.Linear(50,2)\n",
    "        self.l3 = nn.Linear(50,25)\n",
    "        self.critic_lin1 = nn.Linear(25,1)\n",
    "\n",
    "    def forward(self,x):\n",
    "        x = F.normalize(x,dim=0)\n",
    "        y = F.relu(self.l1(x))\n",
    "        y = F.relu(self.l2(y))\n",
    "        actor = F.log_softmax(self.actor_lin1(y),dim=0)\n",
    "        c = F.relu(self.l3(y.detach()))\n",
    "        critic = torch.tanh(self.critic_lin1(c))\n",
    "        return actor, critic"
   ]
  },
  {
   "cell_type": "code",
   "execution_count": 72,
   "metadata": {},
   "outputs": [],
   "source": [
    "def update_params(worker_opt,values,logprobs,rewards,clc=0.1,gamma=0.95):\n",
    "        rewards = torch.Tensor(rewards).flip(dims=(0,)).view(-1)\n",
    "        logprobs = torch.stack(logprobs).flip(dims=(0,)).view(-1) #to Tensor and reverse\n",
    "        values = torch.stack(values).flip(dims=(0,)).view(-1) #to Tensor and reverse\n",
    "        Returns = []\n",
    "        ret_ = torch.Tensor([0])#rewards_[0]\n",
    "        #Ret.append(ret_)\n",
    "        for r in range(rewards.shape[0]):\n",
    "            ret_ = rewards[r] + gamma * ret_\n",
    "            Returns.append(ret_)\n",
    "        Returns = torch.stack(Returns).view(-1)\n",
    "        Returns = F.normalize(Returns,dim=0)\n",
    "        actor_loss = -1*logprobs * (Returns - values.detach())\n",
    "        critic_loss = torch.pow(values - Returns,2)\n",
    "        loss = actor_loss.sum() + clc*critic_loss.sum()\n",
    "        loss.backward()\n",
    "        worker_opt.step()\n",
    "        return actor_loss, critic_loss, len(rewards)\n",
    "        \n",
    "def run_episode(worker_env, worker_model):\n",
    "    state = torch.from_numpy(worker_env.env.state).float()\n",
    "    values, logprobs, rewards = [],[],[]\n",
    "    done = False\n",
    "    j=0\n",
    "    while (done == False):\n",
    "        j+=1\n",
    "        #run actor critic model\n",
    "        policy, value = worker_model(state)\n",
    "        values.append(value)\n",
    "        #sample action\n",
    "        logits = policy.view(-1)\n",
    "        action_dist = torch.distributions.Categorical(logits=logits)\n",
    "        action = action_dist.sample()\n",
    "        logprob_ = policy.view(-1)[action]\n",
    "        logprobs.append(logprob_)\n",
    "        state_, _, done, info = worker_env.step(action.detach().numpy())\n",
    "        state = torch.from_numpy(state_).float()\n",
    "        if done:\n",
    "            reward = -10\n",
    "            worker_env.reset()\n",
    "        else:\n",
    "            reward = 1.0\n",
    "        rewards.append(reward)\n",
    "    return values, logprobs, rewards\n",
    "\n",
    "def worker(t, worker_model, counter, params, losses): #q is mp Queue\n",
    "    print(\"In process {}\".format(t,))\n",
    "    start_time = time.time()\n",
    "    #play n steps of the game, store rewards\n",
    "    worker_env = gym.make(\"CartPole-v1\")\n",
    "    worker_env.reset()\n",
    "    worker_opt = optim.Adam(lr=1e-4,params=worker_model.parameters())\n",
    "    worker_opt.zero_grad()\n",
    "    for i in range(params['epochs']):\n",
    "        worker_opt.zero_grad()\n",
    "        #stores\n",
    "        values, logprobs, rewards = run_episode(worker_env,worker_model)\n",
    "        actor_loss,critic_loss,eplen = update_params(worker_opt,values,logprobs,rewards)\n",
    "        counter.value = counter.value + 1\n",
    "        losses.put(eplen)\n",
    "        if i % 50 == 0:\n",
    "            print(\"Process: {} Maxrun: {} ALoss: {} CLoss: {}\".format(t,eplen, \\\n",
    "                      actor_loss.detach().mean().numpy(),critic_loss.detach().mean().numpy()))\n",
    "        if time.time() - start_time > 45:\n",
    "            print(\"Done 45 seconds\")\n",
    "            break;"
   ]
  },
  {
   "cell_type": "markdown",
   "metadata": {},
   "source": [
    "# <span style=\"color:red;\">Train</span>"
   ]
  },
  {
   "cell_type": "code",
   "execution_count": 75,
   "metadata": {
    "scrolled": true
   },
   "outputs": [
    {
     "name": "stdout",
     "output_type": "stream",
     "text": [
      "In process 0\n",
      "In process 1\n",
      "In process 2\n",
      "In process 3\n",
      "In process 4\n",
      "In process 5\n",
      "In process 6\n",
      "Process: 3 Maxrun: 28 ALoss: 0.060241956263780594 CLoss: 0.03418976068496704\n",
      "Process: 6 Maxrun: 26 ALoss: 0.05034090578556061 CLoss: 0.034537963569164276\n",
      "Process: 0 Maxrun: 43 ALoss: 0.05275442823767662 CLoss: 0.01969188079237938\n",
      "Process: 5 Maxrun: 39 ALoss: 0.051650065928697586 CLoss: 0.02143673412501812\n",
      "Process: 1 Maxrun: 58 ALoss: 0.049718618392944336 CLoss: 0.015436741523444653\n",
      "Process: 4 Maxrun: 42 ALoss: 0.05072680115699768 CLoss: 0.019803021103143692\n",
      "Process: 2 Maxrun: 50 ALoss: 0.05277305468916893 CLoss: 0.01792260631918907\n",
      "Process: 0 Maxrun: 24 ALoss: 0.02283882163465023 CLoss: 0.03526848554611206\n",
      "Process: 2 Maxrun: 22 ALoss: 0.0008543675648979843 CLoss: 0.03945693373680115\n",
      "Process: 6 Maxrun: 32 ALoss: 0.036029357463121414 CLoss: 0.023679405450820923\n",
      "Process: 5 Maxrun: 15 ALoss: -0.10158392041921616 CLoss: 0.07822556048631668\n",
      "Process: 3 Maxrun: 30 ALoss: 0.021618677303195 CLoss: 0.027394281700253487\n",
      "Process: 4 Maxrun: 32 ALoss: 0.029533477500081062 CLoss: 0.02302265167236328\n",
      "Process: 1 Maxrun: 17 ALoss: -0.05076867714524269 CLoss: 0.06339637190103531\n",
      "Process: 0 Maxrun: 11 ALoss: -0.28480014204978943 CLoss: 0.1413124054670334\n",
      "Process: 5 Maxrun: 44 ALoss: 0.03695300966501236 CLoss: 0.00968565046787262\n",
      "Process: 6 Maxrun: 17 ALoss: -0.03939417377114296 CLoss: 0.057618822902441025\n",
      "Process: 1 Maxrun: 48 ALoss: 0.029061928391456604 CLoss: 0.009974260814487934\n",
      "Process: 2 Maxrun: 46 ALoss: 0.03145596385002136 CLoss: 0.011202245019376278\n",
      "Process: 3 Maxrun: 21 ALoss: -0.000474670814583078 CLoss: 0.04486386477947235\n",
      "Process: 4 Maxrun: 34 ALoss: 0.03306642174720764 CLoss: 0.020633239299058914\n",
      "Process: 6 Maxrun: 52 ALoss: -0.0017306023510172963 CLoss: 0.012758336029946804\n",
      "Process: 0 Maxrun: 41 ALoss: 0.006299195811152458 CLoss: 0.013157698325812817\n",
      "Process: 5 Maxrun: 13 ALoss: -0.13425566256046295 CLoss: 0.09599894285202026\n",
      "Process: 2 Maxrun: 98 ALoss: 0.008891502395272255 CLoss: 0.0022165398113429546\n",
      "Process: 1 Maxrun: 33 ALoss: 0.011883032508194447 CLoss: 0.02047375775873661\n",
      "Process: 3 Maxrun: 51 ALoss: 0.019242363050580025 CLoss: 0.008803240023553371\n",
      "Process: 4 Maxrun: 75 ALoss: 0.004387926775962114 CLoss: 0.0044268337078392506\n",
      "Process: 0 Maxrun: 67 ALoss: 0.006034068297594786 CLoss: 0.004469088278710842\n",
      "Process: 6 Maxrun: 69 ALoss: 0.0023957628291100264 CLoss: 0.004684064071625471\n",
      "Process: 2 Maxrun: 41 ALoss: -0.0031578736379742622 CLoss: 0.01256165374070406\n",
      "Process: 5 Maxrun: 85 ALoss: -0.0015988488448783755 CLoss: 0.00242494884878397\n",
      "Process: 3 Maxrun: 98 ALoss: -0.014946148730814457 CLoss: 0.0027197187300771475\n",
      "Process: 1 Maxrun: 118 ALoss: -0.011550398543477058 CLoss: 0.0016195019707083702\n",
      "Process: 4 Maxrun: 54 ALoss: 0.01084556058049202 CLoss: 0.007465990725904703\n",
      "Process: 0 Maxrun: 100 ALoss: -0.0008733564172871411 CLoss: 0.002155138412490487\n",
      "Process: 6 Maxrun: 91 ALoss: 0.008740069344639778 CLoss: 0.0023427826818078756\n",
      "Process: 3 Maxrun: 174 ALoss: -0.004715921822935343 CLoss: 0.0008168267668224871\n",
      "Process: 5 Maxrun: 77 ALoss: -0.0008503157296217978 CLoss: 0.003973084501922131\n",
      "Process: 2 Maxrun: 55 ALoss: 0.014725630171597004 CLoss: 0.006250392645597458\n",
      "Process: 1 Maxrun: 92 ALoss: -0.0038813301362097263 CLoss: 0.0022914663422852755\n",
      "Process: 4 Maxrun: 164 ALoss: -0.012117579579353333 CLoss: 0.0015526035567745566\n",
      "Process: 0 Maxrun: 96 ALoss: 0.008075594902038574 CLoss: 0.0027395598590373993\n",
      "Done 45 seconds\n",
      "Done 45 seconds\n",
      "Done 45 seconds\n",
      "Done 45 seconds\n",
      "Process: 6 Maxrun: 141 ALoss: 0.0048079355619847775 CLoss: 0.0010050807613879442\n",
      "Done 45 seconds\n",
      "Done 45 seconds\n",
      "Done 45 seconds\n",
      "2050 0\n",
      "CPU times: user 63.6 ms, sys: 76.1 ms, total: 140 ms\n",
      "Wall time: 45.4 s\n"
     ]
    }
   ],
   "source": [
    "%%time\n",
    "if __name__ == '__main__':\n",
    "    MasterNode = ActorCritic()\n",
    "    MasterNode.share_memory()\n",
    "    processes = []\n",
    "    params = {\n",
    "        'epochs':1000,\n",
    "        'n_workers':7,\n",
    "    }\n",
    "    counter = mp.Value('i',0)\n",
    "    losses = mp.Queue()\n",
    "    for i in range(params['n_workers']):\n",
    "        p = mp.Process(target=worker, args=(i,MasterNode,counter,params,losses))\n",
    "        p.start()\n",
    "        processes.append(p)\n",
    "    for p in processes:\n",
    "        p.join()\n",
    "    for p in processes:\n",
    "        p.terminate()\n",
    "\n",
    "    print(counter.value,processes[1].exitcode)"
   ]
  },
  {
   "cell_type": "code",
   "execution_count": 76,
   "metadata": {},
   "outputs": [],
   "source": [
    "losses_ = []\n",
    "while not losses.empty():\n",
    "    losses_.append(losses.get())"
   ]
  },
  {
   "cell_type": "code",
   "execution_count": 85,
   "metadata": {},
   "outputs": [
    {
     "data": {
      "image/png": "[encoded data removed]",
      "text/plain": [
       "<Figure size 648x360 with 1 Axes>"
      ]
     },
     "metadata": {
      "needs_background": "light"
     },
     "output_type": "display_data"
    }
   ],
   "source": [
    "plt.figure(figsize=(9,5))\n",
    "x = np.array(losses_)\n",
    "N = 50\n",
    "x = np.convolve(x, np.ones((N,))/N, mode='valid')\n",
    "plt.ylabel(\"Mean Episode Length\")\n",
    "plt.xlabel(\"Training Time\")\n",
    "plt.title(\"CartPole Training Evaluation\")\n",
    "plt.plot(x)\n",
    "#plt.savefig(\"avg_rewards.png\")"
   ]
  },
  {
   "cell_type": "code",
   "execution_count": null,
   "metadata": {},
   "outputs": [],
   "source": []
  }
 ],
 "metadata": {
  "kernelspec": {
   "display_name": "Python 3",
   "language": "python",
   "name": "python3"
  },
  "language_info": {
   "codemirror_mode": {
    "name": "ipython",
    "version": 3
   },
   "file_extension": ".py",
   "mimetype": "text/x-python",
   "name": "python",
   "nbconvert_exporter": "python",
   "pygments_lexer": "ipython3",
   "version": "3.7.1"
  }
 },
 "nbformat": 4,
 "nbformat_minor": 4
}

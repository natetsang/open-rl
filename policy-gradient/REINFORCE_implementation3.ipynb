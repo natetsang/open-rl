{
 "cells": [
  {
   "cell_type": "markdown",
   "metadata": {},
   "source": [
    "# REINFORCE"
   ]
  },
  {
   "cell_type": "code",
   "execution_count": 1,
   "metadata": {},
   "outputs": [],
   "source": [
    "import gym\n",
    "import numpy as np\n",
    "import matplotlib.pyplot as plt\n",
    "import tensorflow as tf\n",
    "np.random.seed(42)"
   ]
  },
  {
   "cell_type": "code",
   "execution_count": 2,
   "metadata": {},
   "outputs": [],
   "source": [
    "# Instantiate environment\n",
    "env = gym.make(\"CartPole-v1\")\n",
    "\n",
    "observation_dim = env.observation_space.shape[0]\n",
    "action_dim = env.action_space.n"
   ]
  },
  {
   "cell_type": "code",
   "execution_count": 3,
   "metadata": {},
   "outputs": [],
   "source": [
    "def build_policy_network(input_size, output_size):\n",
    "    inputs = tf.keras.layers.Input(input_size, name='input')\n",
    "    dense1 = tf.keras.layers.Dense(32, activation='relu', name='hidden')(inputs)\n",
    "    outputs = tf.keras.layers.Dense(output_size, activation='softmax', name='prob_outputs')(dense1)\n",
    "    model = tf.keras.Model(inputs=inputs, outputs=outputs)\n",
    "    \n",
    "    optimizer=tf.keras.optimizers.Adam(lr=1e-3)\n",
    "    return model, optimizer"
   ]
  },
  {
   "cell_type": "code",
   "execution_count": 4,
   "metadata": {},
   "outputs": [],
   "source": [
    "def discount_rewards(rewards, discount_rate=0.99, normalize_rewards=False):\n",
    "    rewards_to_go = list()\n",
    "    cumulative_rewards = 0.0\n",
    "\n",
    "    for r in rewards[::-1]:\n",
    "        cumulative_rewards = r + discount_rate * cumulative_rewards\n",
    "        rewards_to_go.append(cumulative_rewards)\n",
    "    rewards_to_go.reverse()\n",
    "\n",
    "    if normalize_rewards:\n",
    "        mean = np.mean(rewards_to_go)\n",
    "        std = np.std(rewards_to_go)\n",
    "        rewards_to_go = (rewards_to_go - mean) / std\n",
    "    return np.array(rewards_to_go)"
   ]
  },
  {
   "cell_type": "code",
   "execution_count": 5,
   "metadata": {},
   "outputs": [],
   "source": [
    "def get_action(predict_model, state):\n",
    "    state = state.reshape((1, -1))\n",
    "    action_prob = predict_model.predict(state, batch_size=1).flatten()\n",
    "    selected_action = np.random.choice(action_dim, 1, p=action_prob)[0]\n",
    "    action_prob = np.array(action_prob[selected_action])\n",
    "    return selected_action, action_prob.tolist()"
   ]
  },
  {
   "cell_type": "code",
   "execution_count": 12,
   "metadata": {},
   "outputs": [],
   "source": [
    "def update_policy(model, rewards, states, actions, actions_prob):\n",
    "    rewards_to_go = discount_rewards(rewards)\n",
    "    states = np.vstack(states)\n",
    "    actions = np.array(actions)\n",
    "    actions = actions.reshape((len(actions), 1))  \n",
    "    \n",
    "    with tf.GradientTape() as tape:\n",
    "        action_probs = model(states)\n",
    "        pa = tf.gather_nd(action_probs, actions, batch_dims=1)\n",
    "        rewards_to_go = tf.convert_to_tensor(tf.cast(rewards_to_go, dtype=tf.float32))\n",
    "        loss = -tf.reduce_sum(tf.multiply(tf.math.log(tf.clip_by_value(pa, 1e-8, 1-1e-8)), rewards_to_go))\n",
    "    gradients = tape.gradient(loss, model.trainable_variables)\n",
    "    optimizer.apply_gradients(zip(gradients, model.trainable_variables))"
   ]
  },
  {
   "cell_type": "code",
   "execution_count": 14,
   "metadata": {},
   "outputs": [
    {
     "name": "stdout",
     "output_type": "stream",
     "text": [
      "WARNING:tensorflow:Layer hidden is casting an input tensor from dtype float64 to the layer's dtype of float32, which is new behavior in TensorFlow 2.  The layer has dtype float32 because it's dtype defaults to floatx.\n",
      "\n",
      "If you intended to run this layer in float32, you can safely ignore this warning. If in doubt, this warning is likely only an issue if you are porting a TensorFlow 1.X model to TensorFlow 2.\n",
      "\n",
      "To change all layers to have dtype float64 by default, call `tf.keras.backend.set_floatx('float64')`. To change just this layer, pass dtype='float64' to the layer constructor. If you are the author of this layer, you can disable autocasting by passing autocast=False to the base Layer constructor.\n",
      "\n",
      "Episode: 0, Reward: 17.0\n"
     ]
    }
   ],
   "source": [
    "NUM_EPISODES = 1\n",
    "\n",
    "policy_model, optimizer = build_policy_network(observation_dim, action_dim)\n",
    "\n",
    "episode_rewards = list()\n",
    "for episode in range(NUM_EPISODES):\n",
    "    batch_rewards = []\n",
    "    batch_obs = []\n",
    "    batch_actions = []\n",
    "    batch_actions_prob = []\n",
    "    obs = env.reset()\n",
    "    \n",
    "    # Run policy to get one entire trajectory\n",
    "    while True:\n",
    "#         env.render()\n",
    "\n",
    "        action, action_prob = get_action(policy_model, obs)\n",
    "        new_obs, reward, done, _ = env.step(action)\n",
    "\n",
    "        # Save data\n",
    "        batch_obs.append(obs)\n",
    "        batch_rewards.append(reward)\n",
    "        batch_actions.append(action)\n",
    "        batch_actions_prob.append(action_prob)\n",
    "        if done:\n",
    "            episode_reward = sum(batch_rewards)\n",
    "            episode_rewards.append(episode_reward)\n",
    "\n",
    "            update_policy(policy_model, batch_rewards, batch_obs, batch_actions, batch_actions_prob)\n",
    "\n",
    "            print(f\"Episode: {episode}, Reward: {episode_reward}\")\n",
    "            break\n",
    "\n",
    "        obs = new_obs"
   ]
  },
  {
   "cell_type": "code",
   "execution_count": null,
   "metadata": {},
   "outputs": [],
   "source": [
    "plt.plot([i for i in range(515)], episode_rewards)\n",
    "plt.xlabel(\"episode number\")\n",
    "plt.ylabel(\"reward\")\n",
    "plt.title(\"Simple PG Training\")\n",
    "plt.show()"
   ]
  },
  {
   "cell_type": "code",
   "execution_count": null,
   "metadata": {},
   "outputs": [],
   "source": []
  }
 ],
 "metadata": {
  "kernelspec": {
   "display_name": "Python 3",
   "language": "python",
   "name": "python3"
  },
  "language_info": {
   "codemirror_mode": {
    "name": "ipython",
    "version": 3
   },
   "file_extension": ".py",
   "mimetype": "text/x-python",
   "name": "python",
   "nbconvert_exporter": "python",
   "pygments_lexer": "ipython3",
   "version": "3.7.6"
  }
 },
 "nbformat": 4,
 "nbformat_minor": 4
}
